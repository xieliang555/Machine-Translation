{
 "cells": [
  {
   "cell_type": "markdown",
   "metadata": {},
   "source": [
    "# Transformer for neuron machine translation\n",
    "Ref: https://andrewpeng.dev/transformer-pytorch/  \n",
    "Ref: https://spaces.ac.cn/archives/6933  \n",
    "Ref: https://github.com/graykode/nlp-tutorial  "
   ]
  },
  {
   "cell_type": "code",
   "execution_count": 1,
   "metadata": {
    "ExecuteTime": {
     "end_time": "2020-03-07T12:11:18.776901Z",
     "start_time": "2020-03-07T12:11:17.439658Z"
    }
   },
   "outputs": [],
   "source": [
    "import torch\n",
    "from torchtext.datasets import Multi30k\n",
    "from torchtext.data import BucketIterator, Field\n",
    "import torch.optim as optim\n",
    "import torch.nn as nn\n",
    "from torch.utils.tensorboard import SummaryWriter\n",
    "\n",
    "import os\n",
    "import time\n",
    "import copy\n",
    "from torchsummaryX import summary\n",
    "\n",
    "import model\n",
    "import utils"
   ]
  },
  {
   "cell_type": "markdown",
   "metadata": {},
   "source": [
    "## Loading data"
   ]
  },
  {
   "cell_type": "code",
   "execution_count": 2,
   "metadata": {
    "ExecuteTime": {
     "end_time": "2020-03-07T12:11:26.273980Z",
     "start_time": "2020-03-07T12:11:20.390510Z"
    }
   },
   "outputs": [],
   "source": [
    "BSZ = 8\n",
    "SRC = Field(tokenize='spacy',\n",
    "            tokenizer_language='de',\n",
    "            init_token='<sos>',\n",
    "            eos_token='<eos>',\n",
    "            lower=True)\n",
    "\n",
    "TRG = Field(tokenize='spacy',\n",
    "            tokenizer_language='en',\n",
    "            init_token='<sos>',\n",
    "            eos_token='<eos>',\n",
    "            lower=True)\n",
    "\n",
    "train_data, val_data, test_data = Multi30k.splits(\n",
    "    exts=('.de', '.en'), fields=(SRC, TRG))\n",
    "train_iter, val_iter, test_iter = BucketIterator.splits(\n",
    "    (train_data, val_data, test_data), batch_size=BSZ)\n",
    "\n",
    "\n",
    "SRC.build_vocab(train_data, min_freq=4)\n",
    "TRG.build_vocab(train_data, min_freq=4)"
   ]
  },
  {
   "cell_type": "code",
   "execution_count": 3,
   "metadata": {
    "ExecuteTime": {
     "end_time": "2020-03-07T12:11:26.280702Z",
     "start_time": "2020-03-07T12:11:26.276170Z"
    }
   },
   "outputs": [],
   "source": [
    "# batch = next(iter(train_iter))\n",
    "\n",
    "# for batch_idx, batch in enumerate(train_iter):\n",
    "#     src = batch.src.transpose(0,1)[0:2]\n",
    "#     trg = batch.trg.transpose(0,1)[0:2]\n",
    "#     src = [' '.join(utils.itos(idx_seq, SRC)) for idx_seq in src]\n",
    "#     trg = [' '.join(utils.itos(idx_seq, TRG)) for idx_seq in trg]\n",
    "#     print(src)\n",
    "#     print(trg)\n",
    "    \n",
    "#     if batch_idx == 0:\n",
    "#         break\n",
    "\n",
    "# print(len(train_iter))\n",
    "# print(len(val_iter))\n",
    "# print(len(test_iter))\n",
    "\n",
    "# print(len(TRG.vocab))\n",
    "# print(TRG.vocab.stoi[' '])\n",
    "# print(TRG.vocab.itos[0])\n",
    "\n",
    "# print(SRC.vocab.stoi['<sos>'])\n",
    "# print(TRG.vocab.stoi['<sos>'])"
   ]
  },
  {
   "cell_type": "markdown",
   "metadata": {},
   "source": [
    "## Define model"
   ]
  },
  {
   "cell_type": "code",
   "execution_count": 4,
   "metadata": {
    "ExecuteTime": {
     "end_time": "2020-03-07T12:11:26.413216Z",
     "start_time": "2020-03-07T12:11:26.283264Z"
    }
   },
   "outputs": [],
   "source": [
    "D_MODEL = 512\n",
    "N_HEAD = 1\n",
    "NUM_ENC_LAYERS = 1\n",
    "NUM_DEC_LAYERS = 1\n",
    "DIM_FEEDWORD = 64\n",
    "DROPOUT = 0.5\n",
    "ACTIVATION = 'relu'\n",
    "N_EPOCH = 1\n",
    "LR = 0.001\n",
    "\n",
    "device = torch.device('cuda:2' if torch.cuda.is_available() else 'cpu')\n",
    "net = model.Transformer(device, len(SRC.vocab), len(TRG.vocab), D_MODEL, N_HEAD, NUM_ENC_LAYERS,\n",
    "                        NUM_ENC_LAYERS, DIM_FEEDWORD, DROPOUT, ACTIVATION).to(device)\n",
    "optimizer = optim.Adam(net.parameters(), lr=LR)\n",
    "criterion = nn.CrossEntropyLoss(ignore_index=SRC.vocab.stoi['<pad>'])\n",
    "path = f'bsz:{BSZ}-lr:{LR}-epoch:{N_EPOCH}-d_model:{D_MODEL}-nhead:{N_HEAD}-nlayer:{NUM_ENC_LAYERS}\\\n",
    "-nhid:{DIM_FEEDWORD}-activation:{ACTIVATION}'\n",
    "writer = SummaryWriter(os.path.join('log/', path))\n",
    "\n",
    "best_val_bleu = 0.0\n",
    "best_val_model = copy.deepcopy(net.state_dict())"
   ]
  },
  {
   "cell_type": "code",
   "execution_count": 5,
   "metadata": {
    "ExecuteTime": {
     "end_time": "2020-03-07T12:11:26.419672Z",
     "start_time": "2020-03-07T12:11:26.415787Z"
    }
   },
   "outputs": [],
   "source": [
    "# print(net)\n",
    "# summary(net, torch.zeros((10,1), dtype = torch.long), torch.zeros((10,1), dtype = torch.long))"
   ]
  },
  {
   "cell_type": "markdown",
   "metadata": {},
   "source": [
    "## Train and evaluate"
   ]
  },
  {
   "cell_type": "code",
   "execution_count": 6,
   "metadata": {
    "ExecuteTime": {
     "end_time": "2020-03-07T12:11:26.686580Z",
     "start_time": "2020-03-07T12:11:26.422394Z"
    }
   },
   "outputs": [
    {
     "name": "stdout",
     "output_type": "stream",
     "text": [
      "cand [['drops', 'goats', 'overhang', 'smiling', 'also', 'snowing', 'free', 'solitary', 'it', 'touch', 'infant', 'parallel', 'tip', 'seesaw', 'splashes', 'bench', 'bite'], ['torn', 'performs', 'riverbank', 'overlooking', 'cart', 'bronze', 'bicyclists', 'news', 'aisle', 'tool', 'pads', 'both', 'uniformed', 'stunt', 'tip', 'mural', 'shirt'], ['husky', 'prizes', 'major', 'tossing', 'walk', 'wood', 'kiss', 'bagpipes', 'palm', 'wakeboard', 'octopus', 'catch', 'jumped', 'standing', 'denim', 'tv', 'streets'], ['disk', 'wears', 'rounding', 'tip', 'disk', 'demonstrating', 'silhouetted', 'pillow', 'saxophone', 'float', 'ponytail', 'acrobatic', 'dreadlocks', 'model', 'upward', 'roadwork', 'brightly'], ['welding', 'hook', 'bunch', 'racetrack', '6', 'sings', 'sidewalk', 'distance', 'television', 'statues', 'serving', 'surfers', 'bends', 'bike', 'multi', 'tv', 'underneath'], ['quickly', 'carved', 'flatbed', 'firefighter', 'india', 'pushes', 'trims', 'trims', 'loose', 'multi', 'lively', 'electric', 'floats', 'bag', 'participates', 'soldering', 'chin'], ['clowns', 'hard', 'oxen', 'defender', 'notes', 'preparing', 'jumps', 'sister', 'pops', 'relaxes', 'selecting', 'indoors', 'jumps', 'smoothing', 'disk', 'unseen', 'casino'], ['scrubs', 'beards', 'laundromat', 'bank', 'raft', 'four', 'senior', 'waits', 'fixes', 'roll', 'children', 'my', 'drawing', 'sheer', 'messy', 'participates', 'chiseling']]\n",
      "\n",
      "\n",
      "ref [[['a', 'woman', 'wearing', 'a', 'purple', 'outfit', 'walking', 'down', 'the', 'sidewalk', 'carrying', 'a', 'white', 'bag', '.', '<eos>', '<pad>']], [['a', 'woman', 'is', 'riding', 'a', 'bike', 'through', 'a', 'busy', 'marketplace', '.', '<eos>', '<pad>', '<pad>', '<pad>', '<pad>', '<pad>']], [['two', 'young', 'boys', 'playing', 'checkers', 'in', 'a', 'room', '.', '<eos>', '<pad>', '<pad>', '<pad>', '<pad>', '<pad>', '<pad>', '<pad>']], [['this', 'artist', 'in', 'the', '<unk>', 'shirt', '<unk>', 'away', 'at', 'the', 'stone', 'to', 'create', 'a', '<unk>', '.', '<eos>']], [['a', 'skier', 'out', 'enjoying', 'the', 'slopes', 'on', 'a', '<unk>', ',', 'cool', 'day', '.', '<eos>', '<pad>', '<pad>', '<pad>']], [['a', 'family', 'is', 'praying', 'to', 'an', 'ornate', 'statue', '.', '<eos>', '<pad>', '<pad>', '<pad>', '<pad>', '<pad>', '<pad>', '<pad>']], [['men', 'working', 'on', 'a', 'project', '.', '<eos>', '<pad>', '<pad>', '<pad>', '<pad>', '<pad>', '<pad>', '<pad>', '<pad>', '<pad>', '<pad>']], [['young', 'people', 'are', 'sitting', 'and', 'talking', 'in', 'a', 'coffee', 'bar', '.', '<eos>', '<pad>', '<pad>', '<pad>', '<pad>', '<pad>']]]\n",
      "cand [['drops', 'goats', 'overhang', 'smiling', 'also', 'snowing', 'free', 'solitary', 'it', 'touch', 'infant', 'parallel', 'tip', 'seesaw', 'splashes', 'bench', 'torn', 'performs', 'riverbank', 'overlooking', 'cart', 'bronze', 'bicyclists', 'news', 'aisle', 'tool', 'pads', 'both', 'husky', 'prizes', 'major', 'tossing', 'walk', 'wood', 'kiss', 'bagpipes', 'palm', 'wakeboard', 'disk', 'wears', 'rounding', 'tip', 'disk', 'demonstrating', 'silhouetted', 'pillow', 'saxophone', 'float', 'ponytail', 'acrobatic', 'dreadlocks', 'model', 'upward', 'roadwork', 'brightly', 'welding', 'hook', 'bunch', 'racetrack', '6', 'sings', 'sidewalk', 'distance', 'television', 'statues', 'serving', 'surfers', 'bends', 'bike', 'quickly', 'carved', 'flatbed', 'firefighter', 'india', 'pushes', 'trims', 'trims', 'loose', 'multi', 'clowns', 'hard', 'oxen', 'defender', 'notes', 'preparing', 'jumps', 'scrubs', 'beards', 'laundromat', 'bank', 'raft', 'four', 'senior', 'waits', 'fixes', 'roll', 'children', 'my']]\n",
      "\n",
      "\n",
      "ref [[['a', 'woman', 'wearing', 'a', 'purple', 'outfit', 'walking', 'down', 'the', 'sidewalk', 'carrying', 'a', 'white', 'bag', '.', '<eos>', 'a', 'woman', 'is', 'riding', 'a', 'bike', 'through', 'a', 'busy', 'marketplace', '.', '<eos>', 'two', 'young', 'boys', 'playing', 'checkers', 'in', 'a', 'room', '.', '<eos>', 'this', 'artist', 'in', 'the', '<unk>', 'shirt', '<unk>', 'away', 'at', 'the', 'stone', 'to', 'create', 'a', '<unk>', '.', '<eos>', 'a', 'skier', 'out', 'enjoying', 'the', 'slopes', 'on', 'a', '<unk>', ',', 'cool', 'day', '.', '<eos>', 'a', 'family', 'is', 'praying', 'to', 'an', 'ornate', 'statue', '.', '<eos>', 'men', 'working', 'on', 'a', 'project', '.', '<eos>', 'young', 'people', 'are', 'sitting', 'and', 'talking', 'in', 'a', 'coffee', 'bar', '.', '<eos>']]]\n"
     ]
    }
   ],
   "source": [
    "for epoch in range(N_EPOCH):\n",
    "    model.train(net, train_iter, criterion, optimizer, TRG, epoch, writer, device)\n",
    "#     val_loss, val_bleu = model.evaluate(net, val_iter, criterion, TRG, device)\n",
    "#     print(f'epoch: {epoch} | val loss: {val_loss:.3f} | val bleu: {val_bleu: .3f}')\n",
    "    \n",
    "#     if val_bleu > best_val_bleu:\n",
    "#         best_val_bleu = val_bleu\n",
    "#         best_val_model = copy.deepcopy(net.state_dict())"
   ]
  },
  {
   "cell_type": "markdown",
   "metadata": {},
   "source": [
    "## Test"
   ]
  },
  {
   "cell_type": "code",
   "execution_count": null,
   "metadata": {},
   "outputs": [],
   "source": [
    "net.load_state_dict(best_val_model)\n",
    "test_loss, test_bleu = model.test(net, test_iter, criterion, TRG, device)\n",
    "print(f'test loss: {test_loss:.3f} | test bleu: {test_bleu: .3f}')"
   ]
  },
  {
   "cell_type": "code",
   "execution_count": null,
   "metadata": {},
   "outputs": [],
   "source": []
  }
 ],
 "metadata": {
  "kernelspec": {
   "display_name": "Python [conda env:sign]",
   "language": "python",
   "name": "conda-env-sign-py"
  },
  "language_info": {
   "codemirror_mode": {
    "name": "ipython",
    "version": 3
   },
   "file_extension": ".py",
   "mimetype": "text/x-python",
   "name": "python",
   "nbconvert_exporter": "python",
   "pygments_lexer": "ipython3",
   "version": "3.6.9"
  },
  "toc": {
   "base_numbering": 1,
   "nav_menu": {},
   "number_sections": true,
   "sideBar": true,
   "skip_h1_title": false,
   "title_cell": "Table of Contents",
   "title_sidebar": "Contents",
   "toc_cell": false,
   "toc_position": {},
   "toc_section_display": true,
   "toc_window_display": false
  }
 },
 "nbformat": 4,
 "nbformat_minor": 2
}
